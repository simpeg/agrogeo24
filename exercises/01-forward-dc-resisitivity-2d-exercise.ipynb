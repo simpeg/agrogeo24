{
 "cells": [
  {
   "cell_type": "markdown",
   "metadata": {},
   "source": [
    "# 2.5D DC Resistivity Forward Simulation"
   ]
  },
  {
   "cell_type": "markdown",
   "metadata": {},
   "source": [
    "This tutorial demonstrates forward simulation of DC resistivity data with SimPEG. We define surface topography, survey geometry and subsurface electrical resistivity for a 2.5D geometry. We use this information to simulate normalized voltage data.\n",
    "\n",
    "The following items are dicussed in this tutorial:\n",
    "\n",
    "- Defining surface topography.\n",
    "- Defining surveys within SimPEG.\n",
    "- Defining the mesh on which the forward simulation is solved.\n",
    "- Defining a model which represents Earth's subsurface resistivity.\n",
    "- Defining the forward simulation.\n",
    "- Plotting DC resistivity data.\n",
    "\n",
    "<img src=\"https://raw.githubusercontent.com/simpeg/agrogeo24/main/images/dcr_fwd.png\" width=\"100%\" align=\"center\"/>"
   ]
  },
  {
   "cell_type": "markdown",
   "metadata": {},
   "source": [
    "## Step 0: Importing Modules"
   ]
  },
  {
   "cell_type": "code",
   "execution_count": null,
   "metadata": {},
   "outputs": [],
   "source": [
    "# SimPEG functionality\n",
    "from SimPEG.electromagnetics.static import resistivity as dc\n",
    "from SimPEG.utils import model_builder\n",
    "from SimPEG import maps\n",
    "from SimPEG.electromagnetics.static.utils.static_utils import (\n",
    "    generate_dcip_sources_line,\n",
    "    pseudo_locations,\n",
    "    plot_pseudosection,\n",
    "    apparent_resistivity_from_voltage,\n",
    ")\n",
    "\n",
    "# discretize functionality\n",
    "from discretize import TreeMesh\n",
    "from discretize.utils import active_from_xyz\n",
    "\n",
    "# Common Python functionality\n",
    "import numpy as np\n",
    "import matplotlib as mpl\n",
    "import matplotlib.pyplot as plt\n",
    "from matplotlib.colors import LogNorm\n",
    "\n",
    "mpl.rcParams.update({\"font.size\": 14})  # default font size\n",
    "\n",
    "write_output = True  # Optional"
   ]
  },
  {
   "cell_type": "markdown",
   "metadata": {},
   "source": [
    "## Step 1: Defining Topography\n",
    "\n",
    "<img src=\"https://www.researchgate.net/profile/Oyebanji-Alagbo-2/publication/359861220/figure/fig1/AS:1143365911478274@1649611084348/Schematic-description-of-ridge-tillage-with-crops-placed-on-top-of-the-re-compacted.png\" width=\"75%\" align=\"center\"/>\n",
    "\n",
    "### <span style=\"color:darkgreen\">Exercise (beginner):</span>\n",
    "\n",
    "Define a topography over x = (-300, 300) with a 1 m horizontal spacing. Let the elevation $y = 4 + 4 \\, tanh(x/100)$. Use the variable name *topo_2d* to define the (N, 2) numpy array for the topography."
   ]
  },
  {
   "cell_type": "code",
   "execution_count": null,
   "metadata": {},
   "outputs": [],
   "source": []
  },
  {
   "cell_type": "code",
   "execution_count": null,
   "metadata": {},
   "outputs": [],
   "source": [
    "fig = plt.figure(figsize=(6, 2))\n",
    "ax = fig.add_axes([0.1, 0.1, 0.8, 0.8])\n",
    "ax.plot(topo_2d[:, 0], topo_2d[:, -1], color=\"b\", linewidth=2)\n",
    "ax.set_xlabel(\"x (m)\", labelpad=5)\n",
    "ax.set_ylabel(\"y (m)\", labelpad=5)\n",
    "ax.grid(True)\n",
    "ax.set_title(\"Topography\", fontsize=16, pad=10)\n",
    "plt.show(fig)"
   ]
  },
  {
   "cell_type": "markdown",
   "metadata": {},
   "source": [
    "## Step 2: Defining the Survey\n",
    "\n",
    "<img src=\"https://raw.githubusercontent.com/simpeg/agrogeo24/main/images/DCR_DipoleDipole_Array.svg\" width=\"40%\" align=\"right\"/>\n",
    "\n",
    "DC resistivity surveys within SimPEG require the user to create and connect three types of objects:\n",
    "\n",
    "- receivers\n",
    "- sources\n",
    "- survey\n",
    "\n",
    "These can be defined manually, or efficiently using SimPEG utilities.\n",
    "\n",
    "\n",
    "### <span style=\"color:darkgreen\">Exercise (beginner):</span>\n",
    "\n",
    "Use the [generate_dcip_sources_line](myst:SimPEG#SimPEG.electromagnetics.static.utils.generate_dcip_sources_line) utility function to define a DC resistivity survey line. Enter the following input arguments, in order:\n",
    "\n",
    "* **'dipole-dipole'** (survey type)\n",
    "* **'volt'** (data type)\n",
    "* **'2D'** (dimension of the problem)\n",
    "* **[-65, 65]** (horizontal end locations)\n",
    "* **topo_2d** (our topography object)\n",
    "* **15** (number of receivers per source)\n",
    "* **5** (electrode spacing)\n",
    "\n",
    "This will output a list of source objects with associated receivers. Then define a [dc.Survey](https://docs.simpeg.xyz/content/api/SimPEG.electromagnetics.static.resistivity.html#survey) the object which stores and organizes all of the sources and receivers.\n",
    "\n",
    "### <span style=\"color:darkorange\">Exercise (advanced):</span>\n",
    "\n",
    "Try different electrode configurations in your survey (e.g. 'pole-dipole'). Or change the number of receivers or the electrode spacing."
   ]
  },
  {
   "cell_type": "code",
   "execution_count": null,
   "metadata": {},
   "outputs": [],
   "source": []
  },
  {
   "cell_type": "code",
   "execution_count": null,
   "metadata": {},
   "outputs": [],
   "source": [
    "pseudo_locations_xy = pseudo_locations(survey)\n",
    "fig = plt.figure(figsize=(8, 2.75))\n",
    "ax = fig.add_axes([0.1, 0.1, 0.85, 0.8])\n",
    "ax.scatter(pseudo_locations_xy[:, 0], pseudo_locations_xy[:, -1], 8, \"r\")\n",
    "ax.set_xlabel(\"x (m)\")\n",
    "ax.set_ylabel(\"y (m)\")\n",
    "ax.set_title(\"Pseudo-locations\")\n",
    "plt.show()"
   ]
  },
  {
   "cell_type": "markdown",
   "metadata": {},
   "source": [
    "### <span style=\"color:darkgreen\">Exercise (beginner):</span>\n",
    "\n",
    "Extract the following items from the survey object:\n",
    "\n",
    "- the total number of data\n",
    "- the electrode locations\n",
    "- the 3rd receiver of the 2nd source"
   ]
  },
  {
   "cell_type": "code",
   "execution_count": null,
   "metadata": {},
   "outputs": [],
   "source": []
  },
  {
   "cell_type": "markdown",
   "metadata": {},
   "source": [
    "## Step 3: Designing a Mesh\n",
    "\n",
    "Meshes define the numerical grid on which we numerically solve the PDE for the DC resistivity problem. Here, we define a tree mesh.\n",
    "\n",
    "<img src=\"https://raw.githubusercontent.com/simpeg/agrogeo24/main/images/sphx_glr_1_mesh_overview_001.png\" width=\"75%\" align=\"center\"/>"
   ]
  },
  {
   "cell_type": "markdown",
   "metadata": {},
   "source": [
    "### <span style=\"color:darkgreen\">Exercise (beginner):</span>\n",
    "\n",
    "Define and provide reasonable values for the following variables:\n",
    "\n",
    "* **dh** (minimum cell width)\n",
    "* **dom_width_x** (width of the domain along x)\n",
    "* **dom_width_y** (width of the domain along y)\n",
    "\n",
    "### <span style=\"color:darkorange\">Exercise (advanced):</span>\n",
    "\n",
    "Play with the parameters of the [refine_surface](https://discretize.simpeg.xyz/en/main/api/generated/discretize.TreeMesh.refine_surface.html) and [refine_points](https://discretize.simpeg.xyz/en/main/api/generated/discretize.TreeMesh.refine_points.html) methods to change the level of discretization around the surface and the electrode locations. Or visit the [tree mesh](https://discretize.simpeg.xyz/en/main/api/generated/discretize.TreeMesh.html) API to see additional refinement methods."
   ]
  },
  {
   "cell_type": "code",
   "execution_count": null,
   "metadata": {},
   "outputs": [],
   "source": []
  },
  {
   "cell_type": "code",
   "execution_count": null,
   "metadata": {},
   "outputs": [],
   "source": [
    "# Number of base cells along x and y\n",
    "nbcx = 2 ** int(np.round(np.log(dom_width_x / dh) / np.log(2.0)))\n",
    "nbcy = 2 ** int(np.round(np.log(dom_width_y / dh) / np.log(2.0)))\n",
    "\n",
    "# Define the base mesh with top at z = 0 m.\n",
    "hx = [(dh, nbcx)]\n",
    "hy = [(dh, nbcy)]\n",
    "mesh = TreeMesh([hx, hy], origin=\"CN\")\n",
    "\n",
    "# Shift top to maximum topography and center of survey line\n",
    "y_topo_max = np.max(topo_2d[:, -1])\n",
    "mesh.origin = mesh.origin + np.r_[np.mean(end_locations), y_topo_max]"
   ]
  },
  {
   "cell_type": "code",
   "execution_count": null,
   "metadata": {},
   "outputs": [],
   "source": [
    "# Mesh refinement near electrodes.\n",
    "unique_locations = survey.unique_electrode_locations\n",
    "\n",
    "mesh.refine_points(\n",
    "    unique_locations, padding_cells_by_level=[10, 8, 8, 8, 4, 4], finalize=False\n",
    ")\n",
    "\n",
    "# Mesh refinement based on topography\n",
    "mesh.refine_surface(\n",
    "    topo_2d[np.abs(x_topo) < 150.0, :],\n",
    "    padding_cells_by_level=[0, 0, 4, 4],\n",
    "    finalize=False,\n",
    ")"
   ]
  },
  {
   "cell_type": "code",
   "execution_count": null,
   "metadata": {},
   "outputs": [],
   "source": [
    "# Finalize\n",
    "mesh.finalize()"
   ]
  },
  {
   "cell_type": "code",
   "execution_count": null,
   "metadata": {},
   "outputs": [],
   "source": [
    "fig = plt.figure(figsize=(8, 4))\n",
    "\n",
    "ax1 = fig.add_axes([0.14, 0.17, 0.8, 0.7])\n",
    "mesh.plot_grid(ax=ax1, linewidth=1)\n",
    "ax1.grid(False)\n",
    "ax1.set_xlim(-200, 200)\n",
    "ax1.set_ylim(y_topo_max - 200, y_topo_max)\n",
    "ax1.set_title(\"Mesh\")\n",
    "ax1.set_xlabel(\"x (m)\")\n",
    "ax1.set_ylabel(\"y (m)\")\n",
    "\n",
    "plt.show()"
   ]
  },
  {
   "cell_type": "markdown",
   "metadata": {},
   "source": [
    "### <span style=\"color:darkgreen\">Exercise (beginner):</span>\n",
    "\n",
    "The mesh is another object whose properties we can extract. Try to exctract the following properties from the mesh:\n",
    "\n",
    "- the total number of cells\n",
    "- the origin\n",
    "- the cell centers"
   ]
  },
  {
   "cell_type": "code",
   "execution_count": null,
   "metadata": {},
   "outputs": [],
   "source": []
  },
  {
   "cell_type": "markdown",
   "metadata": {},
   "source": [
    "## Step 4: Active Cells\n",
    "\n",
    "<img src=\"https://raw.githubusercontent.com/simpeg/agrogeo24/main/images/active_cells.png\" width=\"25%\" align=\"right\"/>\n",
    "\n",
    "### <span style=\"color:darkgreen\">Exercise (beginner):</span>\n",
    "\n",
    "Use the [active_from_xyz](https://discretize.simpeg.xyz/en/main/api/generated/discretize.utils.active_from_xyz.html) utility function define the active mesh cells. The input arguments for the function are the\n",
    "\n",
    "* **mesh** (the tree mesh)\n",
    "* **topo_2d** (2D topography)\n",
    "\n",
    "The output quantity is a ``bool`` array which should be named **active_cells**."
   ]
  },
  {
   "cell_type": "code",
   "execution_count": null,
   "metadata": {},
   "outputs": [],
   "source": []
  },
  {
   "cell_type": "markdown",
   "metadata": {},
   "source": [
    "## Step 5: Defining a Model\n",
    "\n",
    "### <span style=\"color:darkgreen\">Exercise (beginner):</span>\n",
    "\n",
    "Generate a model whose parameters define the resistivities ($\\Omega m$) on all active mesh cells. The model will have the following features:\n",
    "\n",
    "* Near surface resistivity of 100 $\\Omega m$\n",
    "* Basement resistivity (z < -16 m) of 10 $\\Omega m$\n",
    "* An infinite cylinder centered at (10, -5) with a radius of 5 m with a resistivity of 1000 $\\Omega m$\n",
    "\n",
    "*For simple geometric shapes, we can use utilities like* [model_builder.get_indices_sphere](https://docs.simpeg.xyz/content/api/generated/SimPEG.utils.model_builder.get_indices_sphere.html).\n",
    "\n",
    "### <span style=\"color:darkorange\">Exercise (advanced):</span>\n",
    "\n",
    "Generate a model whose parameters define the log-resistivities (natural log) on all active mesh cells."
   ]
  },
  {
   "cell_type": "code",
   "execution_count": null,
   "metadata": {},
   "outputs": [],
   "source": []
  },
  {
   "cell_type": "code",
   "execution_count": null,
   "metadata": {},
   "outputs": [],
   "source": []
  },
  {
   "cell_type": "code",
   "execution_count": null,
   "metadata": {},
   "outputs": [],
   "source": [
    "plotting_map = maps.InjectActiveCells(mesh, active_cells, np.nan)\n",
    "\n",
    "fig = plt.figure(figsize=(10, 3))\n",
    "\n",
    "norm = LogNorm(vmin=1e1, vmax=1e3)\n",
    "\n",
    "ax1 = fig.add_axes([0.14, 0.17, 0.68, 0.7])\n",
    "mesh.plot_image(\n",
    "    plotting_map * resistivity_model,\n",
    "    ax=ax1,\n",
    "    grid=False,\n",
    "    pcolor_opts={\"norm\": norm, \"cmap\": mpl.cm.RdYlBu_r},\n",
    ")\n",
    "ax1.set_xlim(-70, 70)\n",
    "ax1.set_ylim(y_topo_max - 50, y_topo_max)\n",
    "ax1.set_title(\"Electrical Resistivity (Active Cells)\")\n",
    "ax1.set_xlabel(\"x (m)\")\n",
    "ax1.set_ylabel(\"y (m)\")\n",
    "\n",
    "ax2 = fig.add_axes([0.84, 0.17, 0.03, 0.7])\n",
    "cbar = mpl.colorbar.ColorbarBase(\n",
    "    ax2, norm=norm, orientation=\"vertical\", cmap=mpl.cm.RdYlBu_r\n",
    ")\n",
    "cbar.set_label(r\"$\\rho (\\Omega m)$\", rotation=270, labelpad=25, size=16)\n",
    "\n",
    "plt.show()"
   ]
  },
  {
   "cell_type": "markdown",
   "metadata": {},
   "source": [
    "## Step 6: Mapping from the Model to the Mesh\n",
    "\n",
    "### <span style=\"color:darkgreen\">Exercise (beginner):</span>\n",
    "\n",
    "Define a model representing electrical resistivities on all active cells. Use the [maps.InjectActiveCells](myst:SimPEG#SimPEG.maps.InjectActiveCells) mapping to define this mapping. **Important:** although the true electrical resistivity of the air is infinity, set the value for the inactive cells to 1e8 $\\Omega m$!\n",
    "\n",
    "<img src=\"https://raw.githubusercontent.com/simpeg/agrogeo24/main/images/mapping_1.png\" width=\"50%\" align=\"center\"/>\n",
    "\n",
    "### <span style=\"color:darkorange\">Exercise (advanced):</span>\n",
    "\n",
    "Define a model representing log-resistivities on all active cells. Our mapping must: \n",
    "\n",
    "- converts log-resistivities to resistivities, then\n",
    "- projects these values to the entire mesh AND sets a static value for all air cells.\n",
    "\n",
    "Use the [maps.InjectActiveCells](https://docs.simpeg.xyz/content/api/generated/SimPEG.maps.InjectActiveCells.html#SimPEG.maps.InjectActiveCells) and [maps.ExpMap](https://docs.simpeg.xyz/content/api/generated/SimPEG.maps.ExpMap.html#SimPEG.maps.ExpMap) mappings to accomplish this. Successive mappings can be combined via the chain rule using the $^*$ operator; i.e.\n",
    "\n",
    "```\n",
    "rho_map = active_map * exp_map\n",
    "```"
   ]
  },
  {
   "cell_type": "code",
   "execution_count": null,
   "metadata": {},
   "outputs": [],
   "source": []
  },
  {
   "cell_type": "markdown",
   "metadata": {},
   "source": [
    "## Step 7: Project Survey to Discretized Topography\n",
    "\n",
    "<img src=\"https://raw.githubusercontent.com/simpeg/agrogeo24/main/images/project_electrodes.png\" width=\"40%\" align=\"center\"/>\n",
    "\n",
    "### <span style=\"color:darkgreen\">Exercise (beginner):</span>\n",
    "\n",
    "Use the [drape_electrodes_on_topography](https://docs.simpeg.xyz/content/api/generated/SimPEG.electromagnetics.static.resistivity.Survey.drape_electrodes_on_topography.html#SimPEG.electromagnetics.static.resistivity.Survey.drape_electrodes_on_topography) method to project surface electrodes to the discrete surface. The input arguments are:\n",
    "\n",
    "* **mesh** (the tree mesh)\n",
    "* **active_cells** (your active cells array)\n",
    "\n",
    "This method will reassign the locations of the electrode in all source and receiver objects."
   ]
  },
  {
   "cell_type": "code",
   "execution_count": null,
   "metadata": {},
   "outputs": [],
   "source": []
  },
  {
   "cell_type": "markdown",
   "metadata": {},
   "source": [
    "## Step 8: Defining the Forward Simulation\n",
    "\n",
    "<img src=\"https://raw.githubusercontent.com/simpeg/agrogeo24/main/images/fwd_simulation.png\" width=\"30%\" align=\"right\"/>\n",
    "\n",
    "In SimPEG, the governing physics, problem geometry and input parameters for the forward simulation are defined within simulation classes. The simulation object must be associated with a:\n",
    "\n",
    "- survey\n",
    "- mesh\n",
    "- mapping from the model to the mesh\n",
    "\n",
    "all of which we created earlier. The numerical formulation representing the governing physics is specific to each simulation class.\n",
    "\n",
    "### <span style=\"color:darkgreen\">Exercise (beginner):</span>\n",
    "\n",
    "Use [dc.simulation_2d.Simulation2DNodel](https://docs.simpeg.xyz/content/api/generated/SimPEG.electromagnetics.static.resistivity.Simulation2DNodal.html#SimPEG.electromagnetics.static.resistivity.Simulation2DNodal) to define the simulation. We instantiate the simulation by setting the following:\n",
    "\n",
    "* **mesh** (the mesh as an input argument)\n",
    "* **survey=survey** (set the survey as a keyword argument)\n",
    "* **rhoMap=resistivity_map** (set the mapping as a keyword argument)"
   ]
  },
  {
   "cell_type": "code",
   "execution_count": null,
   "metadata": {},
   "outputs": [],
   "source": []
  },
  {
   "cell_type": "markdown",
   "metadata": {},
   "source": [
    "## Step 9: Predict DC Resistivity Data and Plot\n",
    "\n",
    "### <span style=\"color:darkgreen\">Exercise (beginner):</span>\n",
    "\n",
    "Use the **dpred** method to simulate DC resistivity data for your resistivity model."
   ]
  },
  {
   "cell_type": "code",
   "execution_count": null,
   "metadata": {},
   "outputs": [],
   "source": []
  },
  {
   "cell_type": "markdown",
   "metadata": {},
   "source": [
    "## Plot DC Resistivity Data"
   ]
  },
  {
   "cell_type": "markdown",
   "metadata": {},
   "source": [
    "Here we use the [plot_pseudosection](https://docs.simpeg.xyz/content/api/generated/SimPEG.electromagnetics.static.utils.plot_pseudosection.html#SimPEG.electromagnetics.static.utils.plot_pseudosection) utility function to represent the predicted data on a pseudosection plot as apparent conductivities. If the receivers were defined to simulate data as normalized voltages, we may want to use the [apparent_resistivity_from_voltage](https://docs.simpeg.xyz/content/api/generated/SimPEG.electromagnetics.static.utils.apparent_resistivity_from_voltage.html#SimPEG.electromagnetics.static.utils.apparent_resistivity_from_voltage) utility function to convert the data to apparent resistivities."
   ]
  },
  {
   "cell_type": "code",
   "execution_count": null,
   "metadata": {},
   "outputs": [],
   "source": [
    "# Plot voltages pseudo-section\n",
    "if data_type == \"volt\":\n",
    "    fig = plt.figure(figsize=(8, 2.75))\n",
    "    ax1 = fig.add_axes([0.1, 0.15, 0.75, 0.78])\n",
    "    plot_pseudosection(\n",
    "        survey,\n",
    "        dobs=np.abs(dpred),\n",
    "        plot_type=\"scatter\",\n",
    "        ax=ax1,\n",
    "        scale=\"log\",\n",
    "        cbar_label=\"V/A\",\n",
    "        scatter_opts={\"cmap\": mpl.cm.viridis},\n",
    "    )\n",
    "    ax1.set_title(\"Normalized Voltages\")\n",
    "    plt.show()\n",
    "\n",
    "    # Get apparent conductivities from volts and survey geometry\n",
    "    apparent_resistivity = apparent_resistivity_from_voltage(survey, dpred)\n",
    "\n",
    "else:\n",
    "    apparent_resistivity = dpred.copy()\n",
    "\n",
    "# Plot apparent resistivity pseudo-section\n",
    "fig = plt.figure(figsize=(8, 2.75))\n",
    "ax1 = fig.add_axes([0.1, 0.15, 0.75, 0.78])\n",
    "plot_pseudosection(\n",
    "    survey,\n",
    "    dobs=apparent_resistivity,\n",
    "    data_locations=True,\n",
    "    plot_type=\"contourf\",\n",
    "    ax=ax1,\n",
    "    scale=\"log\",\n",
    "    cbar_label=\"$\\Omega m$\",\n",
    "    mask_topography=True,\n",
    "    contourf_opts={\"levels\": 40, \"cmap\": mpl.cm.RdYlBu_r},\n",
    ")\n",
    "ax1.set_title(\"Apparent Resistivity\")\n",
    "plt.show()"
   ]
  },
  {
   "cell_type": "code",
   "execution_count": null,
   "metadata": {},
   "outputs": [],
   "source": []
  }
 ],
 "metadata": {
  "kernelspec": {
   "display_name": "Python 3 (ipykernel)",
   "language": "python",
   "name": "python3"
  },
  "language_info": {
   "codemirror_mode": {
    "name": "ipython",
    "version": 3
   },
   "file_extension": ".py",
   "mimetype": "text/x-python",
   "name": "python",
   "nbconvert_exporter": "python",
   "pygments_lexer": "ipython3",
   "version": "3.10.9"
  }
 },
 "nbformat": 4,
 "nbformat_minor": 1
}
