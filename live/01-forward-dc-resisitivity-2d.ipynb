{
 "cells": [
  {
   "cell_type": "markdown",
   "metadata": {},
   "source": [
    "# 2.5D DC Resistivity Forward Simulation"
   ]
  },
  {
   "cell_type": "markdown",
   "metadata": {},
   "source": [
    "## Goals\n",
    "\n",
    "- Create a synthetic DC survey\n",
    "- Define a mesh we'll use to simulate the forward problem\n",
    "- Run a forward problem for a 2.5D resistivity model\n",
    "\n",
    "<img src=\"https://raw.githubusercontent.com/simpeg/agrogeo24/main/images/dcr_fwd.png\" width=\"100%\" align=\"center\"/>"
   ]
  },
  {
   "cell_type": "markdown",
   "metadata": {},
   "source": [
    "## Step 0: Importing Modules"
   ]
  },
  {
   "cell_type": "code",
   "execution_count": null,
   "metadata": {},
   "outputs": [],
   "source": [
    "# SimPEG functionality\n",
    "from SimPEG.electromagnetics.static import resistivity as dc\n",
    "from SimPEG.utils import model_builder\n",
    "from SimPEG import maps\n",
    "from SimPEG.electromagnetics.static.utils.static_utils import (\n",
    "    generate_dcip_sources_line,\n",
    "    pseudo_locations,\n",
    "    plot_pseudosection,\n",
    "    apparent_resistivity_from_voltage,\n",
    ")\n",
    "\n",
    "# discretize functionality\n",
    "from discretize import TreeMesh\n",
    "from discretize.utils import active_from_xyz\n",
    "\n",
    "# Common Python functionality\n",
    "import numpy as np\n",
    "import matplotlib as mpl\n",
    "import matplotlib.pyplot as plt\n",
    "from matplotlib.colors import LogNorm\n",
    "\n",
    "mpl.rcParams.update({\"font.size\": 14})  # default font size\n",
    "\n",
    "write_output = True  # Optional"
   ]
  },
  {
   "cell_type": "markdown",
   "metadata": {},
   "source": [
    "## Step 1: Defining Topography\n",
    "\n",
    "Lets define a topography:\n",
    "\n",
    "- Spans over -300m to 300m\n",
    "- Has a horizontal resolution of 1m\n",
    "- The synthetic elevations are generated with a function:\n",
    "    $$ y(x) = 4 + 4 \\tanh \\left( \\frac{x}{100} \\right) $$"
   ]
  },
  {
   "cell_type": "code",
   "execution_count": null,
   "metadata": {},
   "outputs": [],
   "source": []
  },
  {
   "cell_type": "code",
   "execution_count": null,
   "metadata": {},
   "outputs": [],
   "source": [
    "fig = plt.figure(figsize=(6, 2))\n",
    "ax = fig.add_axes([0.1, 0.1, 0.8, 0.8])\n",
    "ax.plot(topo_2d[:, 0], topo_2d[:, -1], color=\"b\", linewidth=2)\n",
    "ax.set_xlabel(\"x (m)\", labelpad=5)\n",
    "ax.set_ylabel(\"y (m)\", labelpad=5)\n",
    "ax.grid(True)\n",
    "ax.set_title(\"Topography\", fontsize=16, pad=10)\n",
    "plt.show(fig)"
   ]
  },
  {
   "cell_type": "markdown",
   "metadata": {},
   "source": [
    "## Step 2: Defining the Survey\n",
    "\n",
    "<img src=\"https://raw.githubusercontent.com/simpeg/agrogeo24/main/images/DCR_DipoleDipole_Array.svg\" width=\"40%\" align=\"right\"/>\n",
    "\n",
    "DC resistivity surveys within SimPEG require the user to create and connect three types of objects:\n",
    "\n",
    "- receivers\n",
    "- sources\n",
    "- survey\n",
    "\n",
    "These can be defined manually, or efficiently using SimPEG utilities like `generate_dcip_sources_line()`"
   ]
  },
  {
   "cell_type": "code",
   "execution_count": null,
   "metadata": {},
   "outputs": [],
   "source": []
  },
  {
   "cell_type": "code",
   "execution_count": null,
   "metadata": {},
   "outputs": [],
   "source": [
    "# Plot pseudo locations\n",
    "pseudo_locations_xy = pseudo_locations(survey)\n",
    "\n",
    "fig = plt.figure(figsize=(8, 2.75))\n",
    "ax = fig.add_axes([0.1, 0.1, 0.85, 0.8])\n",
    "ax.scatter(pseudo_locations_xy[:, 0], pseudo_locations_xy[:, -1], 8, \"r\")\n",
    "ax.set_xlabel(\"x (m)\")\n",
    "ax.set_ylabel(\"y (m)\")\n",
    "ax.set_title(\"Pseudo-locations\")\n",
    "plt.show()"
   ]
  },
  {
   "cell_type": "code",
   "execution_count": null,
   "metadata": {},
   "outputs": [],
   "source": []
  },
  {
   "cell_type": "markdown",
   "metadata": {},
   "source": [
    "## Step 3: Designing a Mesh\n",
    "\n",
    "Meshes define the numerical grid on which we numerically solve the PDE for the DC resistivity problem.\n",
    "\n",
    "<img src=\"https://raw.githubusercontent.com/simpeg/agrogeo24/main/images/sphx_glr_1_mesh_overview_001.png\" width=\"75%\" align=\"center\"/>\n",
    "\n",
    "Here, we define a tree mesh with the following properties:\n",
    "\n",
    "- Minimum cell size of 0.5m\n",
    "- Spans 800m in the horizontal direction\n",
    "- Spans 400m in the vertical direction "
   ]
  },
  {
   "cell_type": "code",
   "execution_count": null,
   "metadata": {},
   "outputs": [],
   "source": []
  },
  {
   "cell_type": "code",
   "execution_count": null,
   "metadata": {},
   "outputs": [],
   "source": [
    "# Number of base cells along x and y\n",
    "nbcx = 2 ** int(np.round(np.log(dom_width_x / dh) / np.log(2.0)))\n",
    "nbcy = 2 ** int(np.round(np.log(dom_width_y / dh) / np.log(2.0)))\n",
    "\n",
    "# Define the base mesh with top at z = 0 m.\n",
    "hx = [(dh, nbcx)]\n",
    "hy = [(dh, nbcy)]\n",
    "mesh = TreeMesh([hx, hy], origin=\"CN\")\n",
    "\n",
    "# Shift top to maximum topography and center of survey line\n",
    "y_topo_max = np.max(topo_2d[:, -1])\n",
    "mesh.origin = mesh.origin + np.r_[np.mean(end_locations), y_topo_max]"
   ]
  },
  {
   "cell_type": "code",
   "execution_count": null,
   "metadata": {},
   "outputs": [],
   "source": [
    "# Mesh refinement near electrodes.\n",
    "unique_locations = survey.unique_electrode_locations\n",
    "\n",
    "mesh.refine_points(\n",
    "    unique_locations, padding_cells_by_level=[10, 8, 8, 8, 4, 4], finalize=False\n",
    ")\n",
    "\n",
    "# Mesh refinement based on topography\n",
    "mesh.refine_surface(\n",
    "    topo_2d[np.abs(x_topo) < 150.0, :],\n",
    "    padding_cells_by_level=[0, 0, 4, 4],\n",
    "    finalize=False,\n",
    ")"
   ]
  },
  {
   "cell_type": "code",
   "execution_count": null,
   "metadata": {},
   "outputs": [],
   "source": [
    "# Finalize\n",
    "mesh.finalize()"
   ]
  },
  {
   "cell_type": "code",
   "execution_count": null,
   "metadata": {},
   "outputs": [],
   "source": [
    "fig = plt.figure(figsize=(8, 4))\n",
    "\n",
    "ax1 = fig.add_axes([0.14, 0.17, 0.8, 0.7])\n",
    "mesh.plot_grid(ax=ax1, linewidth=1)\n",
    "ax1.grid(False)\n",
    "ax1.set_xlim(-200, 200)\n",
    "ax1.set_ylim(y_topo_max - 200, y_topo_max)\n",
    "ax1.set_title(\"Mesh\")\n",
    "ax1.set_xlabel(\"x (m)\")\n",
    "ax1.set_ylabel(\"y (m)\")\n",
    "\n",
    "plt.show()"
   ]
  },
  {
   "cell_type": "code",
   "execution_count": null,
   "metadata": {},
   "outputs": [],
   "source": []
  },
  {
   "cell_type": "code",
   "execution_count": null,
   "metadata": {},
   "outputs": [],
   "source": []
  },
  {
   "cell_type": "markdown",
   "metadata": {},
   "source": [
    "Once the tree mesh is initialized, we want to refine it close to the electrodes and around the topography"
   ]
  },
  {
   "cell_type": "code",
   "execution_count": null,
   "metadata": {},
   "outputs": [],
   "source": []
  },
  {
   "cell_type": "code",
   "execution_count": null,
   "metadata": {},
   "outputs": [],
   "source": []
  },
  {
   "cell_type": "code",
   "execution_count": null,
   "metadata": {},
   "outputs": [],
   "source": [
    "# Plot the mesh\n",
    "fig = plt.figure(figsize=(8, 4))\n",
    "\n",
    "ax1 = fig.add_axes([0.14, 0.17, 0.8, 0.7])\n",
    "mesh.plot_grid(ax=ax1, linewidth=1)\n",
    "ax1.grid(False)\n",
    "ax1.set_xlim(-200, 200)\n",
    "ax1.set_ylim(np.max(y_topo) - 200, np.max(y_topo))\n",
    "ax1.set_title(\"Mesh\")\n",
    "ax1.set_xlabel(\"x (m)\")\n",
    "ax1.set_ylabel(\"y (m)\")\n",
    "\n",
    "plt.show()"
   ]
  },
  {
   "cell_type": "markdown",
   "metadata": {},
   "source": [
    "We can get properties of the mesh (number of cells, cell centers, etc):"
   ]
  },
  {
   "cell_type": "code",
   "execution_count": null,
   "metadata": {},
   "outputs": [],
   "source": []
  },
  {
   "cell_type": "markdown",
   "metadata": {},
   "source": [
    "## Step 4: Active Cells\n",
    "\n",
    "We can fix the resistivity of some cells (inactive cells), so our model only modifies the resistivity of the **active cells**.\n",
    "\n",
    "We can use `active_from_xyz` to define active cells from the topography:\n",
    "- Cells above the topography will be **inactive**.\n",
    "- Cells below the topography will be **active**.\n",
    "\n",
    "<img src=\"https://raw.githubusercontent.com/simpeg/agrogeo24/main/images/active_cells.png\" width=\"20%\"/>"
   ]
  },
  {
   "cell_type": "code",
   "execution_count": null,
   "metadata": {},
   "outputs": [],
   "source": []
  },
  {
   "cell_type": "code",
   "execution_count": null,
   "metadata": {},
   "outputs": [],
   "source": []
  },
  {
   "cell_type": "markdown",
   "metadata": {},
   "source": [
    "## Step 5: Defining a Model\n",
    "\n",
    "Lets generate a model with the resistivities of each active cell:\n",
    "\n",
    "* Near surface resistivity of 100 $\\Omega m$\n",
    "* Basement resistivity of 10 $\\Omega m$ ( depths < -16m )\n",
    "* An infinite block (TODO: ADD DIMENSIONS OF THE BLOCK)"
   ]
  },
  {
   "cell_type": "markdown",
   "metadata": {},
   "source": [
    "Lets start by defining a model with only the background resistivity"
   ]
  },
  {
   "cell_type": "code",
   "execution_count": null,
   "metadata": {},
   "outputs": [],
   "source": []
  },
  {
   "cell_type": "markdown",
   "metadata": {},
   "source": [
    "Add the basement"
   ]
  },
  {
   "cell_type": "code",
   "execution_count": null,
   "metadata": {},
   "outputs": [],
   "source": []
  },
  {
   "cell_type": "markdown",
   "metadata": {},
   "source": [
    "Add the block with [`model_builder.get_indices_block`](http://docs.simpeg.xyz/content/api/generated/SimPEG.utils.model_builder.get_indices_block.html)."
   ]
  },
  {
   "cell_type": "code",
   "execution_count": null,
   "metadata": {},
   "outputs": [],
   "source": []
  },
  {
   "cell_type": "markdown",
   "metadata": {},
   "source": [
    "Keep only the elements that correspond to the active cells"
   ]
  },
  {
   "cell_type": "code",
   "execution_count": null,
   "metadata": {},
   "outputs": [],
   "source": []
  },
  {
   "cell_type": "code",
   "execution_count": null,
   "metadata": {},
   "outputs": [],
   "source": [
    "plotting_map = maps.InjectActiveCells(mesh, active_cells, np.nan)\n",
    "\n",
    "fig = plt.figure(figsize=(10, 3))\n",
    "\n",
    "norm = LogNorm(vmin=1e1, vmax=1e3)\n",
    "\n",
    "ax1 = fig.add_axes([0.14, 0.17, 0.68, 0.7])\n",
    "mesh.plot_image(\n",
    "    plotting_map * resistivity_model,\n",
    "    ax=ax1,\n",
    "    grid=False,\n",
    "    pcolor_opts={\"norm\": norm, \"cmap\": mpl.cm.RdYlBu_r},\n",
    ")\n",
    "ax1.set_xlim(-70, 70)\n",
    "ax1.set_ylim(y_topo_max - 50, y_topo_max)\n",
    "ax1.set_title(\"Electrical Resistivity (Active Cells)\")\n",
    "ax1.set_xlabel(\"x (m)\")\n",
    "ax1.set_ylabel(\"y (m)\")\n",
    "\n",
    "ax2 = fig.add_axes([0.84, 0.17, 0.03, 0.7])\n",
    "cbar = mpl.colorbar.ColorbarBase(\n",
    "    ax2, norm=norm, orientation=\"vertical\", cmap=mpl.cm.RdYlBu_r\n",
    ")\n",
    "cbar.set_label(r\"$\\rho (\\Omega m)$\", rotation=270, labelpad=25, size=16)\n",
    "\n",
    "plt.show()"
   ]
  },
  {
   "cell_type": "markdown",
   "metadata": {},
   "source": [
    "## Step 6: Mapping from the Model to the Mesh\n",
    "\n",
    "Define a model representing electrical resistivities on all active cells. Use the [`maps.InjectActiveCells`](myst:SimPEG#SimPEG.maps.InjectActiveCells) mapping to define this mapping. \n",
    "\n",
    "> **Important:**\n",
    "> Although the true electrical resistivity of the air is infinity, set the value for the inactive cells to 1e8 $\\Omega m$!\n",
    "\n",
    "<img src=\"https://raw.githubusercontent.com/simpeg/agrogeo24/main/images/mapping_1.png\" width=\"50%\" align=\"center\"/>"
   ]
  },
  {
   "cell_type": "code",
   "execution_count": null,
   "metadata": {},
   "outputs": [],
   "source": []
  },
  {
   "cell_type": "markdown",
   "metadata": {},
   "source": [
    "## Step 7: Project Survey to Discretized Topography\n",
    "\n",
    "We should shift the vertical coordinate of the dipoles so they are lying on top of the discrete surface.\n",
    "\n",
    "Lets use [`Survey.drape_electrodes_on_topography`](https://docs.simpeg.xyz/content/api/generated/SimPEG.electromagnetics.static.resistivity.Survey.drape_electrodes_on_topography.html#SimPEG.electromagnetics.static.resistivity.Survey.drape_electrodes_on_topography) for that.\n",
    "\n",
    "<img src=\"https://raw.githubusercontent.com/simpeg/agrogeo24/main/images/project_electrodes.png\" width=\"40%\" align=\"center\"/>"
   ]
  },
  {
   "cell_type": "code",
   "execution_count": null,
   "metadata": {},
   "outputs": [],
   "source": []
  },
  {
   "cell_type": "markdown",
   "metadata": {},
   "source": [
    "## Step 8: Defining the Forward Simulation\n",
    "\n",
    "Lets create a simulation: the object that will simulate the physics!\n",
    "\n",
    "We'll use [dc.simulation_2d.Simulation2DNodel](https://docs.simpeg.xyz/content/api/generated/SimPEG.electromagnetics.static.resistivity.Simulation2DNodal.html#SimPEG.electromagnetics.static.resistivity.Simulation2DNodal). \n",
    "\n",
    "<img src=\"https://raw.githubusercontent.com/simpeg/agrogeo24/main/images/fwd_simulation.png\" width=\"30%\"/>"
   ]
  },
  {
   "cell_type": "code",
   "execution_count": null,
   "metadata": {},
   "outputs": [],
   "source": []
  },
  {
   "cell_type": "markdown",
   "metadata": {},
   "source": [
    "## Step 9: Predict DC Resistivity Data and Plot\n",
    "\n",
    "We can use the **dpred** method to simulate DC resistivity data for your resistivity model."
   ]
  },
  {
   "cell_type": "code",
   "execution_count": null,
   "metadata": {},
   "outputs": [],
   "source": []
  },
  {
   "cell_type": "markdown",
   "metadata": {},
   "source": [
    "## Plot DC Resistivity Data"
   ]
  },
  {
   "cell_type": "markdown",
   "metadata": {},
   "source": [
    "Here we use the [plot_pseudosection](https://docs.simpeg.xyz/content/api/generated/SimPEG.electromagnetics.static.utils.plot_pseudosection.html#SimPEG.electromagnetics.static.utils.plot_pseudosection) utility function to represent the predicted data on a pseudosection plot as apparent conductivities. If the receivers were defined to simulate data as normalized voltages, we may want to use the [apparent_resistivity_from_voltage](https://docs.simpeg.xyz/content/api/generated/SimPEG.electromagnetics.static.utils.apparent_resistivity_from_voltage.html#SimPEG.electromagnetics.static.utils.apparent_resistivity_from_voltage) utility function to convert the data to apparent resistivities."
   ]
  },
  {
   "cell_type": "code",
   "execution_count": null,
   "metadata": {},
   "outputs": [],
   "source": [
    "# Plot voltages pseudo-section\n",
    "if data_type == \"volt\":\n",
    "    fig = plt.figure(figsize=(8, 2.75))\n",
    "    ax1 = fig.add_axes([0.1, 0.15, 0.75, 0.78])\n",
    "    plot_pseudosection(\n",
    "        survey,\n",
    "        dobs=np.abs(dpred),\n",
    "        plot_type=\"scatter\",\n",
    "        ax=ax1,\n",
    "        scale=\"log\",\n",
    "        cbar_label=\"V/A\",\n",
    "        scatter_opts={\"cmap\": mpl.cm.viridis},\n",
    "    )\n",
    "    ax1.set_title(\"Normalized Voltages\")\n",
    "    plt.show()\n",
    "\n",
    "    # Get apparent conductivities from volts and survey geometry\n",
    "    apparent_resistivity = apparent_resistivity_from_voltage(survey, dpred)\n",
    "\n",
    "else:\n",
    "    apparent_resistivity = dpred.copy()\n",
    "\n",
    "# Plot apparent resistivity pseudo-section\n",
    "fig = plt.figure(figsize=(8, 2.75))\n",
    "ax1 = fig.add_axes([0.1, 0.15, 0.75, 0.78])\n",
    "plot_pseudosection(\n",
    "    survey,\n",
    "    dobs=apparent_resistivity,\n",
    "    data_locations=True,\n",
    "    plot_type=\"contourf\",\n",
    "    ax=ax1,\n",
    "    scale=\"log\",\n",
    "    cbar_label=\"$\\Omega m$\",\n",
    "    mask_topography=True,\n",
    "    contourf_opts={\"levels\": 40, \"cmap\": mpl.cm.RdYlBu_r},\n",
    ")\n",
    "ax1.set_title(\"Apparent Resistivity\")\n",
    "plt.show()"
   ]
  },
  {
   "cell_type": "code",
   "execution_count": null,
   "metadata": {},
   "outputs": [],
   "source": []
  }
 ],
 "metadata": {
  "kernelspec": {
   "display_name": "Python 3 (ipykernel)",
   "language": "python",
   "name": "python3"
  },
  "language_info": {
   "codemirror_mode": {
    "name": "ipython",
    "version": 3
   },
   "file_extension": ".py",
   "mimetype": "text/x-python",
   "name": "python",
   "nbconvert_exporter": "python",
   "pygments_lexer": "ipython3",
   "version": "3.11.6"
  }
 },
 "nbformat": 4,
 "nbformat_minor": 4
}
